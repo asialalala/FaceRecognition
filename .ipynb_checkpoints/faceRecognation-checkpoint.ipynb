{
 "cells": [
  {
   "cell_type": "markdown",
   "metadata": {},
   "source": [
    "# Face Recognation \n",
    "Project based on: [Build a Deep Facial Recognition App](https://www.youtube.com/watch?v=bK_k7eebGgc&list=PLgNJO2hghbmhHuhURAGbe6KWpiYZt0AMH)"
   ]
  },
  {
   "cell_type": "markdown",
   "metadata": {},
   "source": [
    "# 1. Set up and get data"
   ]
  },
  {
   "cell_type": "markdown",
   "metadata": {},
   "source": [
    "# 1.1 Install dependencies"
   ]
  },
  {
   "cell_type": "code",
   "execution_count": 4,
   "metadata": {},
   "outputs": [
    {
     "name": "stdout",
     "output_type": "stream",
     "text": [
      "Collecting labelme\n",
      "  Using cached labelme-5.4.1-py3-none-any.whl\n",
      "Requirement already satisfied: tensorflow in /usr/local/Cellar/jupyterlab/4.1.6_1/libexec/lib/python3.12/site-packages (2.16.1)\n",
      "Requirement already satisfied: opencv-python in /usr/local/Cellar/jupyterlab/4.1.6_1/libexec/lib/python3.12/site-packages (4.9.0.80)\n",
      "Requirement already satisfied: matplotlib in /usr/local/Cellar/jupyterlab/4.1.6_1/libexec/lib/python3.12/site-packages (3.8.4)\n",
      "Requirement already satisfied: albumentations in /usr/local/Cellar/jupyterlab/4.1.6_1/libexec/lib/python3.12/site-packages (1.4.4)\n",
      "Requirement already satisfied: gdown in /usr/local/Cellar/jupyterlab/4.1.6_1/libexec/lib/python3.12/site-packages (from labelme) (5.1.0)\n",
      "Requirement already satisfied: imgviz>=1.7.5 in /usr/local/Cellar/jupyterlab/4.1.6_1/libexec/lib/python3.12/site-packages (from labelme) (1.7.5)\n",
      "Requirement already satisfied: natsort>=7.1.0 in /usr/local/Cellar/jupyterlab/4.1.6_1/libexec/lib/python3.12/site-packages (from labelme) (8.4.0)\n",
      "Requirement already satisfied: numpy in /usr/local/Cellar/jupyterlab/4.1.6_1/libexec/lib/python3.12/site-packages (from labelme) (1.26.4)\n",
      "Requirement already satisfied: onnxruntime!=1.16.0,>=1.14.1 in /usr/local/Cellar/jupyterlab/4.1.6_1/libexec/lib/python3.12/site-packages (from labelme) (1.17.3)\n",
      "Requirement already satisfied: Pillow>=2.8 in /usr/local/Cellar/jupyterlab/4.1.6_1/libexec/lib/python3.12/site-packages (from labelme) (10.3.0)\n",
      "Requirement already satisfied: PyYAML in /usr/local/Cellar/jupyterlab/4.1.6_1/libexec/lib/python3.12/site-packages (from labelme) (6.0.1)\n",
      "Requirement already satisfied: qtpy!=1.11.2 in /usr/local/Cellar/jupyterlab/4.1.6_1/libexec/lib/python3.12/site-packages (from labelme) (2.4.1)\n",
      "Requirement already satisfied: scikit-image in /usr/local/Cellar/jupyterlab/4.1.6_1/libexec/lib/python3.12/site-packages (from labelme) (0.23.2)\n",
      "Requirement already satisfied: termcolor in /usr/local/Cellar/jupyterlab/4.1.6_1/libexec/lib/python3.12/site-packages (from labelme) (2.4.0)\n",
      "Requirement already satisfied: PyQt5!=5.15.3,!=5.15.4 in /usr/local/Cellar/jupyterlab/4.1.6_1/libexec/lib/python3.12/site-packages (from labelme) (5.15.10)\n",
      "Requirement already satisfied: absl-py>=1.0.0 in /usr/local/Cellar/jupyterlab/4.1.6_1/libexec/lib/python3.12/site-packages (from tensorflow) (2.1.0)\n",
      "Requirement already satisfied: astunparse>=1.6.0 in /usr/local/Cellar/jupyterlab/4.1.6_1/libexec/lib/python3.12/site-packages (from tensorflow) (1.6.3)\n",
      "Requirement already satisfied: flatbuffers>=23.5.26 in /usr/local/Cellar/jupyterlab/4.1.6_1/libexec/lib/python3.12/site-packages (from tensorflow) (24.3.25)\n",
      "Requirement already satisfied: gast!=0.5.0,!=0.5.1,!=0.5.2,>=0.2.1 in /usr/local/Cellar/jupyterlab/4.1.6_1/libexec/lib/python3.12/site-packages (from tensorflow) (0.5.4)\n",
      "Requirement already satisfied: google-pasta>=0.1.1 in /usr/local/Cellar/jupyterlab/4.1.6_1/libexec/lib/python3.12/site-packages (from tensorflow) (0.2.0)\n",
      "Requirement already satisfied: h5py>=3.10.0 in /usr/local/Cellar/jupyterlab/4.1.6_1/libexec/lib/python3.12/site-packages (from tensorflow) (3.11.0)\n",
      "Requirement already satisfied: libclang>=13.0.0 in /usr/local/Cellar/jupyterlab/4.1.6_1/libexec/lib/python3.12/site-packages (from tensorflow) (18.1.1)\n",
      "Requirement already satisfied: ml-dtypes~=0.3.1 in /usr/local/Cellar/jupyterlab/4.1.6_1/libexec/lib/python3.12/site-packages (from tensorflow) (0.3.2)\n",
      "Requirement already satisfied: opt-einsum>=2.3.2 in /usr/local/Cellar/jupyterlab/4.1.6_1/libexec/lib/python3.12/site-packages (from tensorflow) (3.3.0)\n",
      "Requirement already satisfied: packaging in /usr/local/Cellar/jupyterlab/4.1.6_1/libexec/lib/python3.12/site-packages (from tensorflow) (24.0)\n",
      "Requirement already satisfied: protobuf!=4.21.0,!=4.21.1,!=4.21.2,!=4.21.3,!=4.21.4,!=4.21.5,<5.0.0dev,>=3.20.3 in /usr/local/Cellar/jupyterlab/4.1.6_1/libexec/lib/python3.12/site-packages (from tensorflow) (4.25.3)\n",
      "Requirement already satisfied: requests<3,>=2.21.0 in /usr/local/Cellar/jupyterlab/4.1.6_1/libexec/lib/python3.12/site-packages (from tensorflow) (2.31.0)\n",
      "Requirement already satisfied: setuptools in /usr/local/lib/python3.12/site-packages (from tensorflow) (69.0.3)\n",
      "Requirement already satisfied: six>=1.12.0 in /usr/local/Cellar/jupyterlab/4.1.6_1/libexec/lib/python3.12/site-packages (from tensorflow) (1.16.0)\n",
      "Requirement already satisfied: typing-extensions>=3.6.6 in /usr/local/Cellar/jupyterlab/4.1.6_1/libexec/lib/python3.12/site-packages (from tensorflow) (4.11.0)\n",
      "Requirement already satisfied: wrapt>=1.11.0 in /usr/local/Cellar/jupyterlab/4.1.6_1/libexec/lib/python3.12/site-packages (from tensorflow) (1.16.0)\n",
      "Requirement already satisfied: grpcio<2.0,>=1.24.3 in /usr/local/Cellar/jupyterlab/4.1.6_1/libexec/lib/python3.12/site-packages (from tensorflow) (1.63.0)\n",
      "Requirement already satisfied: tensorboard<2.17,>=2.16 in /usr/local/Cellar/jupyterlab/4.1.6_1/libexec/lib/python3.12/site-packages (from tensorflow) (2.16.2)\n",
      "Requirement already satisfied: keras>=3.0.0 in /usr/local/Cellar/jupyterlab/4.1.6_1/libexec/lib/python3.12/site-packages (from tensorflow) (3.3.3)\n",
      "Requirement already satisfied: contourpy>=1.0.1 in /usr/local/Cellar/jupyterlab/4.1.6_1/libexec/lib/python3.12/site-packages (from matplotlib) (1.2.1)\n",
      "Requirement already satisfied: cycler>=0.10 in /usr/local/Cellar/jupyterlab/4.1.6_1/libexec/lib/python3.12/site-packages (from matplotlib) (0.12.1)\n",
      "Requirement already satisfied: fonttools>=4.22.0 in /usr/local/Cellar/jupyterlab/4.1.6_1/libexec/lib/python3.12/site-packages (from matplotlib) (4.51.0)\n",
      "Requirement already satisfied: kiwisolver>=1.3.1 in /usr/local/Cellar/jupyterlab/4.1.6_1/libexec/lib/python3.12/site-packages (from matplotlib) (1.4.5)\n",
      "Requirement already satisfied: pyparsing>=2.3.1 in /usr/local/Cellar/jupyterlab/4.1.6_1/libexec/lib/python3.12/site-packages (from matplotlib) (3.1.2)\n",
      "Requirement already satisfied: python-dateutil>=2.7 in /usr/local/Cellar/jupyterlab/4.1.6_1/libexec/lib/python3.12/site-packages (from matplotlib) (2.9.0.post0)\n",
      "Requirement already satisfied: scipy>=1.10.0 in /usr/local/Cellar/jupyterlab/4.1.6_1/libexec/lib/python3.12/site-packages (from albumentations) (1.13.0)\n",
      "Requirement already satisfied: scikit-learn>=1.3.2 in /usr/local/Cellar/jupyterlab/4.1.6_1/libexec/lib/python3.12/site-packages (from albumentations) (1.4.2)\n",
      "Requirement already satisfied: pydantic>=2.6.4 in /usr/local/Cellar/jupyterlab/4.1.6_1/libexec/lib/python3.12/site-packages (from albumentations) (2.7.1)\n",
      "Requirement already satisfied: opencv-python-headless>=4.9.0 in /usr/local/Cellar/jupyterlab/4.1.6_1/libexec/lib/python3.12/site-packages (from albumentations) (4.9.0.80)\n",
      "Requirement already satisfied: wheel<1.0,>=0.23.0 in /usr/local/lib/python3.12/site-packages (from astunparse>=1.6.0->tensorflow) (0.43.0)\n",
      "Requirement already satisfied: rich in /usr/local/Cellar/jupyterlab/4.1.6_1/libexec/lib/python3.12/site-packages (from keras>=3.0.0->tensorflow) (13.7.1)\n",
      "Requirement already satisfied: namex in /usr/local/Cellar/jupyterlab/4.1.6_1/libexec/lib/python3.12/site-packages (from keras>=3.0.0->tensorflow) (0.0.8)\n",
      "Requirement already satisfied: optree in /usr/local/Cellar/jupyterlab/4.1.6_1/libexec/lib/python3.12/site-packages (from keras>=3.0.0->tensorflow) (0.11.0)\n",
      "Requirement already satisfied: coloredlogs in /usr/local/Cellar/jupyterlab/4.1.6_1/libexec/lib/python3.12/site-packages (from onnxruntime!=1.16.0,>=1.14.1->labelme) (15.0.1)\n",
      "Requirement already satisfied: sympy in /usr/local/Cellar/jupyterlab/4.1.6_1/libexec/lib/python3.12/site-packages (from onnxruntime!=1.16.0,>=1.14.1->labelme) (1.12)\n",
      "Requirement already satisfied: annotated-types>=0.4.0 in /usr/local/Cellar/jupyterlab/4.1.6_1/libexec/lib/python3.12/site-packages (from pydantic>=2.6.4->albumentations) (0.6.0)\n",
      "Requirement already satisfied: pydantic-core==2.18.2 in /usr/local/Cellar/jupyterlab/4.1.6_1/libexec/lib/python3.12/site-packages (from pydantic>=2.6.4->albumentations) (2.18.2)\n",
      "Requirement already satisfied: PyQt5-sip<13,>=12.13 in /usr/local/Cellar/jupyterlab/4.1.6_1/libexec/lib/python3.12/site-packages (from PyQt5!=5.15.3,!=5.15.4->labelme) (12.13.0)\n",
      "Requirement already satisfied: PyQt5-Qt5>=5.15.2 in /usr/local/Cellar/jupyterlab/4.1.6_1/libexec/lib/python3.12/site-packages (from PyQt5!=5.15.3,!=5.15.4->labelme) (5.15.13)\n",
      "Requirement already satisfied: charset-normalizer<4,>=2 in /usr/local/Cellar/jupyterlab/4.1.6_1/libexec/lib/python3.12/site-packages (from requests<3,>=2.21.0->tensorflow) (3.3.2)\n",
      "Requirement already satisfied: idna<4,>=2.5 in /usr/local/Cellar/jupyterlab/4.1.6_1/libexec/lib/python3.12/site-packages (from requests<3,>=2.21.0->tensorflow) (3.7)\n",
      "Requirement already satisfied: urllib3<3,>=1.21.1 in /usr/local/Cellar/jupyterlab/4.1.6_1/libexec/lib/python3.12/site-packages (from requests<3,>=2.21.0->tensorflow) (2.2.1)\n",
      "Requirement already satisfied: certifi>=2017.4.17 in /usr/local/opt/certifi/lib/python3.12/site-packages (from requests<3,>=2.21.0->tensorflow) (2024.2.2)\n",
      "Requirement already satisfied: networkx>=2.8 in /usr/local/Cellar/jupyterlab/4.1.6_1/libexec/lib/python3.12/site-packages (from scikit-image->labelme) (3.3)\n",
      "Requirement already satisfied: imageio>=2.33 in /usr/local/Cellar/jupyterlab/4.1.6_1/libexec/lib/python3.12/site-packages (from scikit-image->labelme) (2.34.1)\n",
      "Requirement already satisfied: tifffile>=2022.8.12 in /usr/local/Cellar/jupyterlab/4.1.6_1/libexec/lib/python3.12/site-packages (from scikit-image->labelme) (2024.4.24)\n",
      "Requirement already satisfied: lazy-loader>=0.4 in /usr/local/Cellar/jupyterlab/4.1.6_1/libexec/lib/python3.12/site-packages (from scikit-image->labelme) (0.4)\n",
      "Requirement already satisfied: joblib>=1.2.0 in /usr/local/Cellar/jupyterlab/4.1.6_1/libexec/lib/python3.12/site-packages (from scikit-learn>=1.3.2->albumentations) (1.4.0)\n",
      "Requirement already satisfied: threadpoolctl>=2.0.0 in /usr/local/Cellar/jupyterlab/4.1.6_1/libexec/lib/python3.12/site-packages (from scikit-learn>=1.3.2->albumentations) (3.5.0)\n",
      "Requirement already satisfied: markdown>=2.6.8 in /usr/local/Cellar/jupyterlab/4.1.6_1/libexec/lib/python3.12/site-packages (from tensorboard<2.17,>=2.16->tensorflow) (3.6)\n",
      "Requirement already satisfied: tensorboard-data-server<0.8.0,>=0.7.0 in /usr/local/Cellar/jupyterlab/4.1.6_1/libexec/lib/python3.12/site-packages (from tensorboard<2.17,>=2.16->tensorflow) (0.7.2)\n",
      "Requirement already satisfied: werkzeug>=1.0.1 in /usr/local/Cellar/jupyterlab/4.1.6_1/libexec/lib/python3.12/site-packages (from tensorboard<2.17,>=2.16->tensorflow) (3.0.2)\n",
      "Requirement already satisfied: beautifulsoup4 in /usr/local/Cellar/jupyterlab/4.1.6_1/libexec/lib/python3.12/site-packages (from gdown->labelme) (4.12.3)\n",
      "Requirement already satisfied: filelock in /usr/local/Cellar/jupyterlab/4.1.6_1/libexec/lib/python3.12/site-packages (from gdown->labelme) (3.14.0)\n",
      "Requirement already satisfied: tqdm in /usr/local/Cellar/jupyterlab/4.1.6_1/libexec/lib/python3.12/site-packages (from gdown->labelme) (4.66.2)\n",
      "Requirement already satisfied: MarkupSafe>=2.1.1 in /usr/local/Cellar/jupyterlab/4.1.6_1/libexec/lib/python3.12/site-packages (from werkzeug>=1.0.1->tensorboard<2.17,>=2.16->tensorflow) (2.1.5)\n",
      "Requirement already satisfied: soupsieve>1.2 in /usr/local/Cellar/jupyterlab/4.1.6_1/libexec/lib/python3.12/site-packages (from beautifulsoup4->gdown->labelme) (2.5)\n",
      "Requirement already satisfied: humanfriendly>=9.1 in /usr/local/Cellar/jupyterlab/4.1.6_1/libexec/lib/python3.12/site-packages (from coloredlogs->onnxruntime!=1.16.0,>=1.14.1->labelme) (10.0)\n",
      "Requirement already satisfied: PySocks!=1.5.7,>=1.5.6 in /usr/local/Cellar/jupyterlab/4.1.6_1/libexec/lib/python3.12/site-packages (from requests[socks]->gdown->labelme) (1.7.1)\n",
      "Requirement already satisfied: markdown-it-py>=2.2.0 in /usr/local/Cellar/jupyterlab/4.1.6_1/libexec/lib/python3.12/site-packages (from rich->keras>=3.0.0->tensorflow) (3.0.0)\n",
      "Requirement already satisfied: pygments<3.0.0,>=2.13.0 in /usr/local/Cellar/jupyterlab/4.1.6_1/libexec/lib/python3.12/site-packages (from rich->keras>=3.0.0->tensorflow) (2.17.2)\n",
      "Requirement already satisfied: mpmath>=0.19 in /usr/local/Cellar/jupyterlab/4.1.6_1/libexec/lib/python3.12/site-packages (from sympy->onnxruntime!=1.16.0,>=1.14.1->labelme) (1.3.0)\n",
      "Requirement already satisfied: mdurl~=0.1 in /usr/local/Cellar/jupyterlab/4.1.6_1/libexec/lib/python3.12/site-packages (from markdown-it-py>=2.2.0->rich->keras>=3.0.0->tensorflow) (0.1.2)\n",
      "Installing collected packages: labelme\n",
      "Successfully installed labelme-5.4.1\n",
      "Note: you may need to restart the kernel to use updated packages.\n"
     ]
    }
   ],
   "source": [
    "pip install labelme tensorflow opencv-python matplotlib albumentations"
   ]
  },
  {
   "cell_type": "markdown",
   "metadata": {},
   "source": [
    "## 1.2 Collect images using openCV"
   ]
  },
  {
   "cell_type": "code",
   "execution_count": 1,
   "metadata": {},
   "outputs": [],
   "source": [
    "import os\n",
    "import time\n",
    "import uuid # for unique id\n",
    "import cv2"
   ]
  },
  {
   "cell_type": "code",
   "execution_count": 2,
   "metadata": {},
   "outputs": [],
   "source": [
    "IMAGES_PATH = os.path.join('data', 'images')\n",
    "NUM_IMAGES_TO_COLLECT = 20"
   ]
  },
  {
   "cell_type": "code",
   "execution_count": 3,
   "metadata": {},
   "outputs": [
    {
     "name": "stdout",
     "output_type": "stream",
     "text": [
      "Collecting image 0\n",
      "Collecting image 1\n",
      "Collecting image 2\n",
      "Collecting image 3\n",
      "Collecting image 4\n",
      "Collecting image 5\n",
      "Collecting image 6\n",
      "Collecting image 7\n",
      "Collecting image 8\n",
      "Collecting image 9\n",
      "Collecting image 10\n",
      "Collecting image 11\n",
      "Collecting image 12\n",
      "Collecting image 13\n",
      "Collecting image 14\n",
      "Collecting image 15\n",
      "Collecting image 16\n",
      "Collecting image 17\n",
      "Collecting image 18\n",
      "Collecting image 19\n"
     ]
    }
   ],
   "source": [
    "# Conection to video camera and get images\n",
    "cap = cv2.VideoCapture(0) # if you are on winodws try 1 instead of 0\n",
    "for imgnum in range(NUM_IMAGES_TO_COLLECT):\n",
    "    print('Collecting image {}'.format(imgnum))\n",
    "    ret, frame = cap.read()\n",
    "    imgname = os.path.join(IMAGES_PATH,f'{str(uuid.uuid1())}.jpg')\n",
    "    cv2.imwrite(imgname, frame)\n",
    "    cv2.imshow('frame', frame)\n",
    "    time.sleep(0.5)\n",
    "\n",
    "    if cv2.waitKey(1) & 0xFF == ord('q'): # turn off the camera\n",
    "        break\n",
    "cap.release()\n",
    "cv2.destroyAllWindows()"
   ]
  },
  {
   "cell_type": "markdown",
   "metadata": {},
   "source": [
    "## 1.3 Annotate images with labelMe"
   ]
  },
  {
   "cell_type": "code",
   "execution_count": 2,
   "metadata": {},
   "outputs": [
    {
     "ename": "NameError",
     "evalue": "name 'Users' is not defined",
     "output_type": "error",
     "traceback": [
      "\u001b[0;31m---------------------------------------------------------------------------\u001b[0m",
      "\u001b[0;31mNameError\u001b[0m                                 Traceback (most recent call last)",
      "Cell \u001b[0;32mIn[2], line 1\u001b[0m\n\u001b[0;32m----> 1\u001b[0m \u001b[43mUsers\u001b[49m\u001b[38;5;241m/\u001b[39masialalala\u001b[38;5;241m/\u001b[39mlocal\u001b[38;5;241m/\u001b[39mpipx\u001b[38;5;241m/\u001b[39mvenvs\u001b[38;5;241m/\u001b[39mlabelme\u001b[38;5;241m/\u001b[39m\u001b[38;5;28mbin\u001b[39m\u001b[38;5;241m/\u001b[39mlabelme()\n",
      "\u001b[0;31mNameError\u001b[0m: name 'Users' is not defined"
     ]
    }
   ],
   "source": [
    "/Users/asialalala/.local/pipx/venvs/labelme/bin/labelme\n",
    "# !labelme"
   ]
  },
  {
   "cell_type": "markdown",
   "metadata": {},
   "source": [
    "# 2. Review Dataset and Build Image Loading Function"
   ]
  },
  {
   "cell_type": "markdown",
   "metadata": {},
   "source": [
    "## 2.1 Import packages"
   ]
  },
  {
   "cell_type": "code",
   "execution_count": 1,
   "metadata": {},
   "outputs": [
    {
     "name": "stderr",
     "output_type": "stream",
     "text": [
      "2024-05-02 19:06:00.509444: I tensorflow/core/platform/cpu_feature_guard.cc:210] This TensorFlow binary is optimized to use available CPU instructions in performance-critical operations.\n",
      "To enable the following instructions: AVX2 FMA, in other operations, rebuild TensorFlow with the appropriate compiler flags.\n"
     ]
    }
   ],
   "source": [
    "import tensorflow as tf\n",
    "import json\n",
    "import numpy as np\n",
    "from matplotlib import pyplot as plt"
   ]
  },
  {
   "cell_type": "markdown",
   "metadata": {},
   "source": [
    "## 2.2 Limit GPU Memory Growth"
   ]
  },
  {
   "cell_type": "code",
   "execution_count": 2,
   "metadata": {},
   "outputs": [],
   "source": [
    "# Avoid OOM errors by setting GPU Memory Consumption Growth\n",
    "gpus = tf.config.experimental.list_physical_devices('GPU')\n",
    "for gpu in gpus: \n",
    "    tf.config.experimental.set_memory_growth(gpu, True)"
   ]
  },
  {
   "cell_type": "code",
   "execution_count": null,
   "metadata": {},
   "outputs": [],
   "source": []
  }
 ],
 "metadata": {
  "kernelspec": {
   "display_name": "Python 3 (ipykernel)",
   "language": "python",
   "name": "python3"
  },
  "language_info": {
   "codemirror_mode": {
    "name": "ipython",
    "version": 3
   },
   "file_extension": ".py",
   "mimetype": "text/x-python",
   "name": "python",
   "nbconvert_exporter": "python",
   "pygments_lexer": "ipython3",
   "version": "3.12.3"
  }
 },
 "nbformat": 4,
 "nbformat_minor": 4
}
